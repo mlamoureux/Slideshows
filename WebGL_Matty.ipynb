{
 "cells": [
  {
   "cell_type": "markdown",
   "metadata": {
    "slideshow": {
     "slide_type": "slide"
    }
   },
   "source": [
    "# <center> Snell's Law - a wave equation demonstration </center>\n",
    "\n",
    "## <center> Michael Lamoureux </center>\n",
    "\n",
    "#### <center> November 20, 2018 </center>\n",
    "\n",
    "\n",
    "\n",
    "\n",
    "\n",
    "\n"
   ]
  },
  {
   "cell_type": "markdown",
   "metadata": {
    "slideshow": {
     "slide_type": "slide"
    }
   },
   "source": [
    "Snell's law tells us how a beam of light is refracted, or bent, as it travels from a fast region to a slower one. \n",
    "\n",
    "Measuring the angle of the beam from the perpendicular to the interface, the ratio of the velocities equals the ratio of the sines of the angles: $$\\frac{v_2}{v_1} = \\frac{\\sin\\theta_2}{\\sin\\theta_1}.$$\n",
    "\n",
    "Or, as shown in this diagram:\n",
    "\n",
    "<center><img src=\"SnellsLaw1.png\" width=\"480\" height=\"350\" /></center>"
   ]
  },
  {
   "cell_type": "markdown",
   "metadata": {
    "slideshow": {
     "slide_type": "slide"
    }
   },
   "source": [
    "To see this,  take a periodic plane wave,  wavelength $\\lambda_1$ in the top region, and wavelength $\\lambda_2$ in the bottom region. The lengths between wave peaks, as measured along the interface, must be equal. This length is just the wavelength divided by the sine of the angle:\n",
    "<center><img src=\"SnellsLaw2.png\" width=\"480\" height=\"350\" /></center>"
   ]
  },
  {
   "cell_type": "markdown",
   "metadata": {
    "slideshow": {
     "slide_type": "slide"
    }
   },
   "source": [
    "Wavelength and frequency are related by velocity,\n",
    "$$\\lambda f = v,$$ so\n",
    "$$\\frac{\\lambda_2}{\\sin \\theta_2} = \\frac{\\lambda_1}{\\sin \\theta_1} \\mbox{ becomes }\n",
    "\\frac{v_2/f}{\\sin \\theta_2} = \\frac{v_1/f}{\\sin \\theta_1}.$$\n",
    "Cancelling the $f$ gives Snell's law."
   ]
  },
  {
   "cell_type": "markdown",
   "metadata": {
    "slideshow": {
     "slide_type": "slide"
    }
   },
   "source": [
    "## <center> Animation </center>\n",
    "\n",
    "In the following slide, we animate a wave packet travelling from an area of high velocity (top region) to low velocity (bottom region).\n",
    "\n",
    "Observe the transmitted wave has a shorter wavelength, and has a different angle of attack. \n",
    "\n",
    "You should also see a reflected wave bouncing off the interface. It has the original wavelength and opposite angle of attack."
   ]
  },
  {
   "cell_type": "code",
   "execution_count": 161,
   "metadata": {
    "slideshow": {
     "slide_type": "skip"
    }
   },
   "outputs": [
    {
     "name": "stdout",
     "output_type": "stream",
     "text": [
      "Overwriting myFile1.html\n"
     ]
    }
   ],
   "source": [
    "%%writefile myFile1.html\n",
    "<!DOCTYPE html>\n",
    "<html><head id=\"Barebones\">\n",
    "        <meta charset=\"UTF-8\" />\n",
    "        <meta name=\"viewport\" content=\"width=device-width, initial-scale=1.0\" />\n",
    "        <script src=\"GPGPUtility.js\"></script>\n",
    "        <script src=\"WaveEqn.js\"></script>\n",
    "        <script src=\"WavePlot.js\"></script>\n",
    "        <title>WebGL wave example</title>\n",
    "        </head>\n",
    "        <body>\n",
    "        <button id=\"startbutton\">Restart</button> <p>\n",
    "        <div class=\"content\">\n",
    "            <h1>Snell's law: a refracting wave packet. Click \"Restart\" for animation</h1>\n",
    "\n",
    "\n",
    "            <figure class=\"center\" id=\"results\">\n",
    "                <figcaption>\n",
    "                    You should see a waveform traveling here. \n",
    "                </figcaption>\n",
    "            </figure>\n",
    "        </div>\n",
    "\n",
    "        <br class=\"clear\" />\n",
    "        <script>\n",
    "        startbutton.addEventListener('click', function (ev) {\n",
    "            location.reload();\n",
    "            ev.preventDefault();\n",
    "        }, false);\n",
    "        </script>\n",
    "        \n",
    "        <script>\n",
    "            \"use strict\";\n",
    "\n",
    "            /** The canvas onto which we render the wave function & potential */\n",
    "            var canvas;\n",
    "            var dt;\n",
    "            var gl;\n",
    "            var gpgpUtility;\n",
    "            var nframes;\n",
    "            var nsteps;\n",
    "            var parent;\n",
    "            var renderer;\n",
    "            var vel_top;\n",
    "            var vel_bot;\n",
    "            var wp;\n",
    "            var wt;\n",
    "            var wlen;\n",
    "            var wang;\n",
    "            var waveengine;\n",
    "            var waveFunctionData, waveFunctionDataD, waveFunctionTexture0, waveFunctionTexture1, waveFunctionTexture2;\n",
    "            var x0;\n",
    "            var y0;\n",
    "            var xLength;\n",
    "            var xResolution;\n",
    "            var yLength;\n",
    "            var yResolution;\n",
    "\n",
    "\n",
    "            // Physical parameters for the wave motion simulation\n",
    "            \n",
    "            xLength = 4000.0; // in meters\n",
    "            yLength = 4000.0; // in meters\n",
    "            vel_top = 1000.0; // velocity in m/s, in top half\n",
    "            vel_bot = 500.0; // velocity in m/s, in bottom half\n",
    "            x0 = .25*xLength; // location of initial Gaussian\n",
    "            y0 = .75*yLength;\n",
    "            wp = 0.05*xLength; // width of the initial Gaussian wave, propagating direction\n",
    "            wt = 0.05*xLength; // width of the initial Gaussian wave, transverse direction\n",
    "            wlen = .05*xLength; // wavelength of the propagating wave\n",
    "            wang = -45; // propagation angle in degrees (0 is horizontal, to the right)\n",
    "\n",
    "            // Parameters for the numerical simulation\n",
    "            \n",
    "            xResolution = 1000; // number of sample points (x-dir y-dir)\n",
    "            yResolution = 1000; \n",
    "            dt = .001; // sample interval for time, in seconds\n",
    "            nframes = 600; // Total number of frames to compute and display\n",
    "            nsteps = 5; // Number of delta t timesteps per frams\n",
    "\n",
    "            // Setup the GPU and canvas to diplay results\n",
    "            \n",
    "            gpgpUtility = new vizit.utility.GPGPUtility(xResolution, yResolution, {premultipliedAlpha: false});\n",
    "            gpgpUtility.setProblemSize(xResolution, yResolution);\n",
    "\n",
    "            canvas = gpgpUtility.getCanvas();\n",
    "            canvas.style.height = yResolution + \"px\";\n",
    "            parent = document.getElementById(\"results\")\n",
    "            parent.insertBefore(canvas, parent.firstChild);\n",
    "            \n",
    "            // an initial plane wave, constrained\n",
    "            function f_plane(x,w,lambda) {\n",
    "                return Math.exp(-(x*x)/(w*w))*Math.cos(2*Math.PI*x/lambda);\n",
    "            }\n",
    "            // the corresponding derivative\n",
    "            function f_planeD(x,w,lambda) {\n",
    "                return -Math.exp(-(x*x)/(w*w))*((2*x/(w*w))*Math.cos(2*Math.PI*x/lambda)+\n",
    "                                                (2*Math.PI/lambda)*Math.sin(2*Math.PI*x/lambda));\n",
    "            }\n",
    "            // a window in the transverse direction\n",
    "            function f_win(y,w) {\n",
    "                return Math.exp(-(y*y)/(w*w));\n",
    "            }\n",
    " \n",
    "            // the initial waveform\n",
    "            function gaussWaveform(waveform,xRez,yRez,xLen,yLen) {\n",
    "                var aa = Math.cos(Math.PI*wang/180); // rotation matrix\n",
    "                var bb = Math.sin(Math.PI*wang/180);\n",
    "                for (var j = 0; j < yRez; ++j) {\n",
    "                    for (var i = 0; i < xRez; ++i) {\n",
    "                        var x = xLen*(i/xRez) - x0;\n",
    "                        var y = yLen*(j/yRez) - y0;\n",
    "                        waveform[4*(i + j*xRez)] = \n",
    "                             10*f_plane(aa*x + bb*y,wp,wlen)*f_win(-bb*x+aa*y,wt);\n",
    "                      }\n",
    "                }\n",
    "                return waveform;\n",
    "            }\n",
    "            function gaussWaveformD(waveform,xRez,yRez,xLen,yLen) {\n",
    "                var aa = Math.cos(Math.PI*wang/180); // rotation matrix\n",
    "                var bb = Math.sin(Math.PI*wang/180);\n",
    "                for (var j = 0; j < yRez; ++j) {\n",
    "                    for (var i = 0; i < xRez; ++i) {\n",
    "                        var x = xLen*(i/xRez) - x0;\n",
    "                        var y = yLen*(j/yRez) - y0;\n",
    "                        waveform[4*(i + j*xRez)] = \n",
    "                             10*f_plane(aa*x + bb*y,wp,wlen)*f_win(-bb*x+aa*y,wt)\n",
    "                                - 1.02*10*dt*vel_top*f_planeD(aa*x + bb*y,wp,wlen)*f_win(-bb*x+aa*y,wt);\n",
    "                      }\n",
    "                }\n",
    "                return waveform;\n",
    "            }\n",
    "            // we stuff velocity^2 info into the green channel;\n",
    "            function velField(waveform,xRez,yRez) {\n",
    "                for (var j = 0; j < yRez; ++j) {\n",
    "                    for (var i = 0; i < xRez; ++i) {\n",
    "                        waveform[4*(i + j*xRez) + 1] = \n",
    "                            (j > yRez/2) ? vel_top**2 : vel_bot**2;\n",
    "                    }\n",
    "                }\n",
    "                return waveform;\n",
    "            }\n",
    "\n",
    "            /**\n",
    "             * Run the simulation for n time steps, then show the results.\n",
    "             */\n",
    "            function nextFrame() {\n",
    "                for (var i = 0; i < nsteps; ++i) {\n",
    "                    waveengine.timestep();\n",
    "                }\n",
    "\n",
    "                renderer.show(waveengine.getRenderedTexture());\n",
    "\n",
    "                if (nframes--) {\n",
    "                    requestAnimationFrame(nextFrame);\n",
    "                }\n",
    "            }\n",
    "\n",
    "            waveFunctionData = new Float32Array(4 * xResolution * yResolution);\n",
    "            waveFunctionData = velField(waveFunctionData,xResolution,yResolution);\n",
    "            waveFunctionData = gaussWaveform(waveFunctionData,xResolution,yResolution,xLength,yLength);\n",
    " \n",
    "            waveFunctionDataD = new Float32Array(4 * xResolution * yResolution);\n",
    "            waveFunctionDataD = velField(waveFunctionDataD,xResolution,yResolution);\n",
    "            waveFunctionDataD = gaussWaveformD(waveFunctionDataD,xResolution,yResolution,xLength,yLength);\n",
    " \n",
    "            waveFunctionTexture0 = gpgpUtility.makeTexture(WebGLRenderingContext.FLOAT, waveFunctionData);\n",
    "            waveFunctionTexture1 = gpgpUtility.makeTexture(WebGLRenderingContext.FLOAT, waveFunctionDataD);\n",
    "            waveFunctionTexture2 = gpgpUtility.makeTexture(WebGLRenderingContext.FLOAT, waveFunctionData);\n",
    "\n",
    "\n",
    "            waveengine = new WaveEngine(gpgpUtility, xResolution, yResolution, xLength, yLength, dt);\n",
    "            renderer = new WaveResults(gpgpUtility, parent, xResolution, yResolution);\n",
    "\n",
    "            waveengine.setInitialTextures(waveFunctionTexture0, waveFunctionTexture1, waveFunctionTexture2);\n",
    "\n",
    "            renderer.show(waveengine.getRenderedTexture());\n",
    "\n",
    "            requestAnimationFrame(nextFrame);\n",
    "    </script>\n",
    "</html>"
   ]
  },
  {
   "cell_type": "code",
   "execution_count": 162,
   "metadata": {
    "slideshow": {
     "slide_type": "slide"
    }
   },
   "outputs": [
    {
     "data": {
      "text/html": [
       "<iframe src='myFile1.html' width=1200 height=1200>"
      ],
      "text/plain": [
       "<IPython.core.display.HTML object>"
      ]
     },
     "metadata": {},
     "output_type": "display_data"
    }
   ],
   "source": [
    "%%html \n",
    "<iframe src='myFile1.html' width=1200 height=1200>"
   ]
  },
  {
   "cell_type": "markdown",
   "metadata": {
    "slideshow": {
     "slide_type": "slide"
    }
   },
   "source": [
    "## Some math\n",
    "\n",
    "Begin with the wave equation:\n",
    "\n",
    "$$\\frac{1}{c^2} \\frac{\\partial^2 u}{\\partial t^2} =  \\nabla^2 u.$$\n",
    "\n",
    "Exapnding these derivatives as central differences, we obtain a time stepping algorithm:\n",
    "$$u(,,t + \\Delta t) = 2u(,,t) - u(,,t-\\Delta t) + \\frac{c^2 \\Delta t^2}{\\Delta x^2}\n",
    "\\left[ u(x-\\Delta x,,) + u(,y - \\Delta y,) + u(x + \\Delta x,,)+ u(,y + \\Delta y,) - 4u(,,t) \\right].$$\n",
    "\n",
    "This is the key to the finite difference simulation."
   ]
  },
  {
   "cell_type": "markdown",
   "metadata": {
    "slideshow": {
     "slide_type": "slide"
    }
   },
   "source": [
    "## Localized plane waves\n",
    "in the x-direction are given by\n",
    "$$u(x,y,t) = \\exp(-\\frac{(x-vt)^2}{w^2})\\cos\\frac{2\\pi(x-vt)}{\\lambda},$$\n",
    "where $w$ is the width of the waveform and $\\lambda$ is the wavelength.\n",
    "\n",
    "We can rotate coordinates to get a wave in any direction.\n",
    "\n",
    "Windowing in the y-direction gives a localized wave packet, which will spread out as time evolves.\n",
    "\n",
    "We use the time derivative to set initial conditions for a one-way travelling wave. "
   ]
  },
  {
   "cell_type": "markdown",
   "metadata": {
    "slideshow": {
     "slide_type": "slide"
    }
   },
   "source": [
    "## <center> Thanks for your attention! </center>"
   ]
  }
 ],
 "metadata": {
  "celltoolbar": "Slideshow",
  "kernelspec": {
   "display_name": "Python 3",
   "language": "python",
   "name": "python3"
  },
  "language_info": {
   "codemirror_mode": {
    "name": "ipython",
    "version": 3
   },
   "file_extension": ".py",
   "mimetype": "text/x-python",
   "name": "python",
   "nbconvert_exporter": "python",
   "pygments_lexer": "ipython3",
   "version": "3.7.0"
  },
  "livereveal": {
   "autolaunch": true,
   "footer": "<h3>M. Lamoureux</h3>",
   "header": "<h1>Waves</h1>"
  }
 },
 "nbformat": 4,
 "nbformat_minor": 2
}
